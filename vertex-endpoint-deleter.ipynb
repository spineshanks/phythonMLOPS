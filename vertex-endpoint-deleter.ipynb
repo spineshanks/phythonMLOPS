{
 "cells": [
  {
   "cell_type": "markdown",
   "id": "e47c48aa-f02c-4f8f-8422-1d8423ac472e",
   "metadata": {},
   "source": [
    "# Vertex Endpoint Deleter\n",
    "\n",
    "Vertex Endpoints are difficult to delete easily when there are models deployed to them. This will make undeploying models on endpoints and then deleting them easier."
   ]
  },
  {
   "cell_type": "markdown",
   "id": "a0db15b7-d16b-4df0-96db-26f3424ece9d",
   "metadata": {},
   "source": [
    "## Dependencies"
   ]
  },
  {
   "cell_type": "code",
   "execution_count": 2,
   "id": "ce74c8a0-788a-443f-8357-99318433c6a9",
   "metadata": {},
   "outputs": [
    {
     "name": "stdout",
     "output_type": "stream",
     "text": [
      "Requirement already satisfied: google-cloud-aiplatform in /opt/conda/lib/python3.7/site-packages (1.13.1)\n",
      "Requirement already satisfied: google-cloud-bigquery<3.0.0dev,>=1.15.0 in /opt/conda/lib/python3.7/site-packages (from google-cloud-aiplatform) (2.34.2)\n",
      "Requirement already satisfied: google-cloud-resource-manager<3.0.0dev,>=1.3.3 in /opt/conda/lib/python3.7/site-packages (from google-cloud-aiplatform) (1.4.1)\n",
      "Requirement already satisfied: packaging>=14.3 in /opt/conda/lib/python3.7/site-packages (from google-cloud-aiplatform) (21.3)\n",
      "Requirement already satisfied: google-cloud-storage<3.0.0dev,>=1.32.0 in ./.local/lib/python3.7/site-packages (from google-cloud-aiplatform) (1.44.0)\n",
      "Requirement already satisfied: proto-plus>=1.15.0 in /opt/conda/lib/python3.7/site-packages (from google-cloud-aiplatform) (1.20.3)\n",
      "Requirement already satisfied: google-api-core[grpc]!=2.0.*,!=2.1.*,!=2.2.*,!=2.3.0,<3.0.0dev,>=1.31.5 in /opt/conda/lib/python3.7/site-packages (from google-cloud-aiplatform) (2.5.0)\n",
      "Requirement already satisfied: googleapis-common-protos<2.0dev,>=1.52.0 in /opt/conda/lib/python3.7/site-packages (from google-api-core[grpc]!=2.0.*,!=2.1.*,!=2.2.*,!=2.3.0,<3.0.0dev,>=1.31.5->google-cloud-aiplatform) (1.54.0)\n",
      "Requirement already satisfied: requests<3.0.0dev,>=2.18.0 in /opt/conda/lib/python3.7/site-packages (from google-api-core[grpc]!=2.0.*,!=2.1.*,!=2.2.*,!=2.3.0,<3.0.0dev,>=1.31.5->google-cloud-aiplatform) (2.27.1)\n",
      "Requirement already satisfied: google-auth<3.0dev,>=1.25.0 in ./.local/lib/python3.7/site-packages (from google-api-core[grpc]!=2.0.*,!=2.1.*,!=2.2.*,!=2.3.0,<3.0.0dev,>=1.31.5->google-cloud-aiplatform) (1.35.0)\n",
      "Requirement already satisfied: protobuf>=3.12.0 in /opt/conda/lib/python3.7/site-packages (from google-api-core[grpc]!=2.0.*,!=2.1.*,!=2.2.*,!=2.3.0,<3.0.0dev,>=1.31.5->google-cloud-aiplatform) (3.19.4)\n",
      "Requirement already satisfied: grpcio<2.0dev,>=1.33.2 in /opt/conda/lib/python3.7/site-packages (from google-api-core[grpc]!=2.0.*,!=2.1.*,!=2.2.*,!=2.3.0,<3.0.0dev,>=1.31.5->google-cloud-aiplatform) (1.44.0)\n",
      "Requirement already satisfied: grpcio-status<2.0dev,>=1.33.2 in /opt/conda/lib/python3.7/site-packages (from google-api-core[grpc]!=2.0.*,!=2.1.*,!=2.2.*,!=2.3.0,<3.0.0dev,>=1.31.5->google-cloud-aiplatform) (1.44.0)\n",
      "Requirement already satisfied: python-dateutil<3.0dev,>=2.7.2 in /opt/conda/lib/python3.7/site-packages (from google-cloud-bigquery<3.0.0dev,>=1.15.0->google-cloud-aiplatform) (2.8.2)\n",
      "Requirement already satisfied: google-resumable-media<3.0dev,>=0.6.0 in /opt/conda/lib/python3.7/site-packages (from google-cloud-bigquery<3.0.0dev,>=1.15.0->google-cloud-aiplatform) (2.3.2)\n",
      "Requirement already satisfied: google-cloud-core<3.0.0dev,>=1.4.1 in /opt/conda/lib/python3.7/site-packages (from google-cloud-bigquery<3.0.0dev,>=1.15.0->google-cloud-aiplatform) (2.3.0)\n",
      "Requirement already satisfied: grpc-google-iam-v1<0.13dev,>=0.12.3 in /opt/conda/lib/python3.7/site-packages (from google-cloud-resource-manager<3.0.0dev,>=1.3.3->google-cloud-aiplatform) (0.12.3)\n",
      "Requirement already satisfied: six in /opt/conda/lib/python3.7/site-packages (from google-cloud-storage<3.0.0dev,>=1.32.0->google-cloud-aiplatform) (1.16.0)\n",
      "Requirement already satisfied: pyparsing!=3.0.5,>=2.0.2 in /opt/conda/lib/python3.7/site-packages (from packaging>=14.3->google-cloud-aiplatform) (3.0.7)\n",
      "Requirement already satisfied: cachetools<5.0,>=2.0.0 in ./.local/lib/python3.7/site-packages (from google-auth<3.0dev,>=1.25.0->google-api-core[grpc]!=2.0.*,!=2.1.*,!=2.2.*,!=2.3.0,<3.0.0dev,>=1.31.5->google-cloud-aiplatform) (4.2.4)\n",
      "Requirement already satisfied: rsa<5,>=3.1.4 in /opt/conda/lib/python3.7/site-packages (from google-auth<3.0dev,>=1.25.0->google-api-core[grpc]!=2.0.*,!=2.1.*,!=2.2.*,!=2.3.0,<3.0.0dev,>=1.31.5->google-cloud-aiplatform) (4.8)\n",
      "Requirement already satisfied: setuptools>=40.3.0 in /opt/conda/lib/python3.7/site-packages (from google-auth<3.0dev,>=1.25.0->google-api-core[grpc]!=2.0.*,!=2.1.*,!=2.2.*,!=2.3.0,<3.0.0dev,>=1.31.5->google-cloud-aiplatform) (59.8.0)\n",
      "Requirement already satisfied: pyasn1-modules>=0.2.1 in /opt/conda/lib/python3.7/site-packages (from google-auth<3.0dev,>=1.25.0->google-api-core[grpc]!=2.0.*,!=2.1.*,!=2.2.*,!=2.3.0,<3.0.0dev,>=1.31.5->google-cloud-aiplatform) (0.2.7)\n",
      "Requirement already satisfied: google-crc32c<2.0dev,>=1.0 in /opt/conda/lib/python3.7/site-packages (from google-resumable-media<3.0dev,>=0.6.0->google-cloud-bigquery<3.0.0dev,>=1.15.0->google-cloud-aiplatform) (1.1.2)\n",
      "Requirement already satisfied: urllib3<1.27,>=1.21.1 in /opt/conda/lib/python3.7/site-packages (from requests<3.0.0dev,>=2.18.0->google-api-core[grpc]!=2.0.*,!=2.1.*,!=2.2.*,!=2.3.0,<3.0.0dev,>=1.31.5->google-cloud-aiplatform) (1.26.8)\n",
      "Requirement already satisfied: certifi>=2017.4.17 in /opt/conda/lib/python3.7/site-packages (from requests<3.0.0dev,>=2.18.0->google-api-core[grpc]!=2.0.*,!=2.1.*,!=2.2.*,!=2.3.0,<3.0.0dev,>=1.31.5->google-cloud-aiplatform) (2021.10.8)\n",
      "Requirement already satisfied: idna<4,>=2.5 in /opt/conda/lib/python3.7/site-packages (from requests<3.0.0dev,>=2.18.0->google-api-core[grpc]!=2.0.*,!=2.1.*,!=2.2.*,!=2.3.0,<3.0.0dev,>=1.31.5->google-cloud-aiplatform) (3.3)\n",
      "Requirement already satisfied: charset-normalizer~=2.0.0 in /opt/conda/lib/python3.7/site-packages (from requests<3.0.0dev,>=2.18.0->google-api-core[grpc]!=2.0.*,!=2.1.*,!=2.2.*,!=2.3.0,<3.0.0dev,>=1.31.5->google-cloud-aiplatform) (2.0.12)\n",
      "Requirement already satisfied: cffi>=1.0.0 in /opt/conda/lib/python3.7/site-packages (from google-crc32c<2.0dev,>=1.0->google-resumable-media<3.0dev,>=0.6.0->google-cloud-bigquery<3.0.0dev,>=1.15.0->google-cloud-aiplatform) (1.15.0)\n",
      "Requirement already satisfied: pyasn1<0.5.0,>=0.4.6 in /opt/conda/lib/python3.7/site-packages (from pyasn1-modules>=0.2.1->google-auth<3.0dev,>=1.25.0->google-api-core[grpc]!=2.0.*,!=2.1.*,!=2.2.*,!=2.3.0,<3.0.0dev,>=1.31.5->google-cloud-aiplatform) (0.4.8)\n",
      "Requirement already satisfied: pycparser in /opt/conda/lib/python3.7/site-packages (from cffi>=1.0.0->google-crc32c<2.0dev,>=1.0->google-resumable-media<3.0dev,>=0.6.0->google-cloud-bigquery<3.0.0dev,>=1.15.0->google-cloud-aiplatform) (2.21)\n"
     ]
    }
   ],
   "source": [
    "!pip install google-cloud-aiplatform"
   ]
  },
  {
   "cell_type": "markdown",
   "id": "5e22b74b-4268-4f28-92c8-888867fd42c3",
   "metadata": {},
   "source": [
    "## Variables"
   ]
  },
  {
   "cell_type": "code",
   "execution_count": 35,
   "id": "3b8bf7de-97ba-49d5-afcc-9840b4a0b71a",
   "metadata": {},
   "outputs": [],
   "source": [
    "PROJECT='seabrook-ai'\n",
    "REGION='us-central1'"
   ]
  },
  {
   "cell_type": "code",
   "execution_count": 48,
   "id": "13165ead-0767-4a66-bd98-3b0c6b2c8e87",
   "metadata": {},
   "outputs": [],
   "source": [
    "import google.cloud.aiplatform as aip\n",
    "import re\n",
    "\n",
    "aip.init(project=PROJECT,location=REGION)"
   ]
  },
  {
   "cell_type": "code",
   "execution_count": 49,
   "id": "afc5e188-d6be-4991-856c-adfb8fc7ca8e",
   "metadata": {},
   "outputs": [],
   "source": [
    "endpoints = aip.models.Endpoint.list()"
   ]
  },
  {
   "cell_type": "code",
   "execution_count": 50,
   "id": "894adf2f-33ee-4965-8bf0-62b6a6eba368",
   "metadata": {},
   "outputs": [
    {
     "name": "stdout",
     "output_type": "stream",
     "text": [
      "4054321584075177984\n",
      "Deleting Endpoint : projects/646741482761/locations/us-central1/endpoints/4054321584075177984\n",
      "Delete Endpoint  backing LRO: projects/646741482761/locations/us-central1/operations/4927368519865073664\n",
      "Endpoint deleted. . Resource name: projects/646741482761/locations/us-central1/endpoints/4054321584075177984\n",
      "7783302075537948672\n",
      "Deleting Endpoint : projects/646741482761/locations/us-central1/endpoints/7783302075537948672\n",
      "Delete Endpoint  backing LRO: projects/646741482761/locations/us-central1/operations/6863916359634386944\n",
      "Endpoint deleted. . Resource name: projects/646741482761/locations/us-central1/endpoints/7783302075537948672\n",
      "990184987602976768\n",
      "Deleting Endpoint : projects/646741482761/locations/us-central1/endpoints/990184987602976768\n",
      "Delete Endpoint  backing LRO: projects/646741482761/locations/us-central1/operations/5178725674067689472\n",
      "Endpoint deleted. . Resource name: projects/646741482761/locations/us-central1/endpoints/990184987602976768\n",
      "2936865926533873664\n",
      "Deleting Endpoint : projects/646741482761/locations/us-central1/endpoints/2936865926533873664\n",
      "Delete Endpoint  backing LRO: projects/646741482761/locations/us-central1/operations/6971158325761146880\n",
      "Endpoint deleted. . Resource name: projects/646741482761/locations/us-central1/endpoints/2936865926533873664\n"
     ]
    }
   ],
   "source": [
    "for endpoint in endpoints:\n",
    "    print(endpoint.resource_name.split('/')[-1])\n",
    "    \n",
    "    # Using force=True will remove the need for this\n",
    "    #for model in endpoint.traffic_split.keys():\n",
    "    #    endpoint.undeploy(deployed_model_id=model)\n",
    "    \n",
    "    endpoint.delete(force=True)\n",
    "    \n",
    "    \n",
    "    #print(endpoint.resource_name)\n",
    "    #print(f\"Endpoint id: {endpoint.id}\")\n",
    "    #print(endpoint.traffic_split.keys())"
   ]
  },
  {
   "cell_type": "markdown",
   "id": "3f3613cc-bc55-4796-a27c-47d553e25fd3",
   "metadata": {},
   "source": [
    "## Delete Models"
   ]
  },
  {
   "cell_type": "code",
   "execution_count": 51,
   "id": "5cba4934-e943-45d0-b0e3-2f3f703819e2",
   "metadata": {},
   "outputs": [],
   "source": [
    "models=aip.models.Model.list()"
   ]
  },
  {
   "cell_type": "code",
   "execution_count": 52,
   "id": "b9477b5b-0747-4597-a8a1-6ad4def1f2a0",
   "metadata": {},
   "outputs": [
    {
     "name": "stdout",
     "output_type": "stream",
     "text": [
      "Deleting Model : projects/646741482761/locations/us-central1/models/4565889160107261952\n",
      "Delete Model  backing LRO: projects/646741482761/locations/us-central1/operations/7233211529078767616\n",
      "Model deleted. . Resource name: projects/646741482761/locations/us-central1/models/4565889160107261952\n"
     ]
    }
   ],
   "source": [
    "for model in models:\n",
    "    model.delete()"
   ]
  },
  {
   "cell_type": "code",
   "execution_count": 47,
   "id": "bbb71db4-bf68-45c6-8b66-fab23a0828f6",
   "metadata": {},
   "outputs": [
    {
     "name": "stdout",
     "output_type": "stream",
     "text": [
      "Types: [<MyTypes.FIRSTVALUE: 1>, <MyTypes.SECONDVALUE: 2>]\n"
     ]
    }
   ],
   "source": [
    "from enum import Enum\n",
    "\n",
    "class MyTypes(Enum):\n",
    "    FIRSTVALUE = 1\n",
    "    SECONDVALUE = 2\n",
    "    \n",
    "#type_list = [e.value for e in MyTypes]\n",
    "\n",
    "type_list = list(MyTypes)\n",
    "print(f\"Types: {type_list}\")\n",
    "\n",
    "#assert 1 in type_list"
   ]
  },
  {
   "cell_type": "code",
   "execution_count": null,
   "id": "5bfd7447-add0-4971-ad06-d589002cd79a",
   "metadata": {},
   "outputs": [],
   "source": []
  }
 ],
 "metadata": {
  "environment": {
   "kernel": "python3",
   "name": "common-cpu.m91",
   "type": "gcloud",
   "uri": "gcr.io/deeplearning-platform-release/base-cpu:m91"
  },
  "kernelspec": {
   "display_name": "Python 3",
   "language": "python",
   "name": "python3"
  },
  "language_info": {
   "codemirror_mode": {
    "name": "ipython",
    "version": 3
   },
   "file_extension": ".py",
   "mimetype": "text/x-python",
   "name": "python",
   "nbconvert_exporter": "python",
   "pygments_lexer": "ipython3",
   "version": "3.7.12"
  }
 },
 "nbformat": 4,
 "nbformat_minor": 5
}
